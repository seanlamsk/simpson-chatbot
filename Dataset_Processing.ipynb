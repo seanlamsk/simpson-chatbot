{
  "nbformat": 4,
  "nbformat_minor": 0,
  "metadata": {
    "colab": {
      "name": "Dataset Processing.ipynb",
      "provenance": [],
      "collapsed_sections": [],
      "toc_visible": true
    },
    "kernelspec": {
      "name": "python3",
      "display_name": "Python 3"
    },
    "language_info": {
      "name": "python"
    }
  },
  "cells": [
    {
      "cell_type": "markdown",
      "metadata": {
        "id": "t9nkvMfceYJO"
      },
      "source": [
        "# Importing Dataset"
      ]
    },
    {
      "cell_type": "code",
      "metadata": {
        "id": "I9A8oOaJ55Ft"
      },
      "source": [
        "import glob\n",
        "import logging\n",
        "import os\n",
        "import pickle\n",
        "import random\n",
        "import re\n",
        "import shutil\n",
        "from typing import Dict, List, Tuple\n",
        "\n",
        "import pandas as pd\n",
        "import numpy as np\n",
        "import torch\n",
        "\n",
        "from sklearn.model_selection import train_test_split\n",
        "\n",
        "from torch.nn.utils.rnn import pad_sequence\n",
        "from torch.utils.data import DataLoader, Dataset, RandomSampler, SequentialSampler\n",
        "from torch.utils.data.distributed import DistributedSampler\n",
        "from tqdm.notebook import tqdm, trange\n",
        "\n",
        "from pathlib import Path"
      ],
      "execution_count": null,
      "outputs": []
    },
    {
      "cell_type": "code",
      "metadata": {
        "colab": {
          "base_uri": "https://localhost:8080/",
          "height": 221
        },
        "id": "W3TfHWH2vMPR",
        "outputId": "c8084a7c-684e-4bda-b335-a4b19c358f79"
      },
      "source": [
        "from google.colab import drive\n",
        "drive.mount('/drive')\n",
        "\n",
        "csv_data = pd.read_csv('/drive/My Drive/CS425_Project/colab/simpsons_dataset.csv')\n",
        "csv_data.head()"
      ],
      "execution_count": null,
      "outputs": [
        {
          "output_type": "stream",
          "name": "stdout",
          "text": [
            "Mounted at /drive\n"
          ]
        },
        {
          "output_type": "execute_result",
          "data": {
            "text/html": [
              "<div>\n",
              "<style scoped>\n",
              "    .dataframe tbody tr th:only-of-type {\n",
              "        vertical-align: middle;\n",
              "    }\n",
              "\n",
              "    .dataframe tbody tr th {\n",
              "        vertical-align: top;\n",
              "    }\n",
              "\n",
              "    .dataframe thead th {\n",
              "        text-align: right;\n",
              "    }\n",
              "</style>\n",
              "<table border=\"1\" class=\"dataframe\">\n",
              "  <thead>\n",
              "    <tr style=\"text-align: right;\">\n",
              "      <th></th>\n",
              "      <th>raw_character_text</th>\n",
              "      <th>spoken_words</th>\n",
              "    </tr>\n",
              "  </thead>\n",
              "  <tbody>\n",
              "    <tr>\n",
              "      <th>0</th>\n",
              "      <td>Miss Hoover</td>\n",
              "      <td>No, actually, it was a little of both. Sometim...</td>\n",
              "    </tr>\n",
              "    <tr>\n",
              "      <th>1</th>\n",
              "      <td>Lisa Simpson</td>\n",
              "      <td>Where's Mr. Bergstrom?</td>\n",
              "    </tr>\n",
              "    <tr>\n",
              "      <th>2</th>\n",
              "      <td>Miss Hoover</td>\n",
              "      <td>I don't know. Although I'd sure like to talk t...</td>\n",
              "    </tr>\n",
              "    <tr>\n",
              "      <th>3</th>\n",
              "      <td>Lisa Simpson</td>\n",
              "      <td>That life is worth living.</td>\n",
              "    </tr>\n",
              "    <tr>\n",
              "      <th>4</th>\n",
              "      <td>Edna Krabappel-Flanders</td>\n",
              "      <td>The polls will be open from now until the end ...</td>\n",
              "    </tr>\n",
              "  </tbody>\n",
              "</table>\n",
              "</div>"
            ],
            "text/plain": [
              "        raw_character_text                                       spoken_words\n",
              "0              Miss Hoover  No, actually, it was a little of both. Sometim...\n",
              "1             Lisa Simpson                             Where's Mr. Bergstrom?\n",
              "2              Miss Hoover  I don't know. Although I'd sure like to talk t...\n",
              "3             Lisa Simpson                         That life is worth living.\n",
              "4  Edna Krabappel-Flanders  The polls will be open from now until the end ..."
            ]
          },
          "metadata": {},
          "execution_count": 4
        }
      ]
    },
    {
      "cell_type": "markdown",
      "metadata": {
        "id": "OoAC6gcDGNWN"
      },
      "source": [
        "# QA Pairs"
      ]
    },
    {
      "cell_type": "code",
      "metadata": {
        "colab": {
          "base_uri": "https://localhost:8080/"
        },
        "id": "0htn-tJA3qoO",
        "outputId": "64cac1ee-bb68-4f5b-cb39-33b454158e9b"
      },
      "source": [
        "persona = 'Homer Simpson'\n",
        "csv_data['spoken_words'] = csv_data['spoken_words']\n",
        "length, _ = csv_data.shape\n",
        "print(\"length\", length)"
      ],
      "execution_count": null,
      "outputs": [
        {
          "output_type": "stream",
          "name": "stdout",
          "text": [
            "length 158314\n"
          ]
        }
      ]
    },
    {
      "cell_type": "code",
      "metadata": {
        "id": "wEsLeLIfpHJP"
      },
      "source": [
        "homer_responses = csv_data[(csv_data.raw_character_text) == persona]['spoken_words']\n",
        "homer_resp_list = homer_responses.to_numpy().tolist()"
      ],
      "execution_count": null,
      "outputs": []
    },
    {
      "cell_type": "code",
      "metadata": {
        "id": "SCYtk9o9IaTQ"
      },
      "source": [
        "scenes = []\n",
        "scene_index = -1\n",
        "i = 0 \n",
        "length,_ = csv_data.shape \n",
        "startScene = False\n",
        "while i < length:\n",
        "  currentSpeaker = csv_data['raw_character_text'][i]\n",
        "  utterance = csv_data['spoken_words'][i] \n",
        "  if not startScene:\n",
        "    startScene = True\n",
        "    scenes.append(list())\n",
        "    scene_index += 1\n",
        "    startScene = True\n",
        "  \n",
        "  if startScene:\n",
        "    if type(utterance) is not str:\n",
        "      #end of scene\n",
        "      startScene = False\n",
        "    else:\n",
        "      scenes[scene_index].append((currentSpeaker,utterance))\n",
        "  i += 1  "
      ],
      "execution_count": null,
      "outputs": []
    },
    {
      "cell_type": "code",
      "metadata": {
        "colab": {
          "base_uri": "https://localhost:8080/"
        },
        "id": "yYDlIYbLNF26",
        "outputId": "8dd8b21a-dbe3-44c2-a116-8c8dc6fa6724"
      },
      "source": [
        "questions = []\n",
        "responses = []\n",
        "for scene in scenes:\n",
        "  lines = scene \n",
        "  prev_speaker = None\n",
        "  prev_utterance = None\n",
        "  for speaker,utterance in lines:\n",
        "    # print(speaker,utterance)\n",
        "    if speaker == persona and prev_speaker != persona and prev_speaker is not None and prev_utterance not in questions:\n",
        "      questions.append(prev_utterance)\n",
        "      responses.append(utterance)\n",
        "    prev_speaker = speaker\n",
        "    prev_utterance = utterance \n",
        "\n",
        "len(questions),len(responses)"
      ],
      "execution_count": null,
      "outputs": [
        {
          "output_type": "execute_result",
          "data": {
            "text/plain": [
              "(18005, 18005)"
            ]
          },
          "metadata": {},
          "execution_count": 6
        }
      ]
    },
    {
      "cell_type": "code",
      "metadata": {
        "colab": {
          "base_uri": "https://localhost:8080/"
        },
        "id": "46QMmJcJRb4c",
        "outputId": "36010c2b-3cbf-48c1-ddf8-800ca0489ccd"
      },
      "source": [
        "import unicodedata\n",
        "def unicodeToAscii(s):\n",
        "    return ''.join(\n",
        "        c for c in unicodedata.normalize('NFD', s)\n",
        "        if unicodedata.category(c) != 'Mn'\n",
        "    )\n",
        "\n",
        "# Lowercase, trim, and remove non-letter characters\n",
        "def normalizeString(s):\n",
        "    s = unicodeToAscii(s.lower().strip())\n",
        "    s = re.sub(r\"([.!?])\", r\" \\1\", s)\n",
        "    s = re.sub(r\"[^a-zA-Z.!?]+\", r\" \", s)\n",
        "    s = re.sub(r\"\\s+\", r\" \", s).strip()\n",
        "    return s\n",
        "\n",
        "cleaned_questions = list(map(normalizeString,questions))\n",
        "cleaned_responses = list(map(normalizeString,responses))\n",
        "\n",
        "pairs = list(zip(questions,responses))\n",
        "pairs[:5]"
      ],
      "execution_count": null,
      "outputs": [
        {
          "output_type": "execute_result",
          "data": {
            "text/plain": [
              "[('Mr. Bergstrom left today.', 'Oh.'),\n",
              " (\"He's gone. Forever.\", 'And?'),\n",
              " (\"I didn't think you'd understand.\",\n",
              "  \"Hey, just because I don't care doesn't mean I don't understand.\"),\n",
              " (\"I'm glad I'm not crying because I would hate for you to think that what I'm about to say is based on emotion. But you, sir, are a baboon!\",\n",
              "  'Me?'),\n",
              " ('Yes, you! Baboon, baboon, baboon, baboon!',\n",
              "  \"I don't think you realize what you're saying.\")]"
            ]
          },
          "metadata": {},
          "execution_count": 15
        }
      ]
    },
    {
      "cell_type": "code",
      "metadata": {
        "id": "GyXFVMmt809s"
      },
      "source": [
        "PAIRS_OUTPUT = \"qa_pairs.txt\"\n",
        "DELIM = \"++++@++++\"\n",
        "with open(PAIRS_OUTPUT, 'w') as f:\n",
        "  for pair in pairs:\n",
        "    f.write(pair[0]+DELIM+pair[1]+\"\\n\")"
      ],
      "execution_count": null,
      "outputs": []
    },
    {
      "cell_type": "markdown",
      "metadata": {
        "id": "rUQnnEDSGUEs"
      },
      "source": [
        "# QA Pairs with speaker IDs"
      ]
    },
    {
      "cell_type": "code",
      "metadata": {
        "colab": {
          "base_uri": "https://localhost:8080/"
        },
        "id": "GNSNWIGyHJqb",
        "outputId": "df1be6f7-d885-40fa-ca9a-3127ac5f2a3b"
      },
      "source": [
        "csv_data['raw_character_text']"
      ],
      "execution_count": null,
      "outputs": [
        {
          "output_type": "execute_result",
          "data": {
            "text/plain": [
              "0                     Miss Hoover\n",
              "1                    Lisa Simpson\n",
              "2                     Miss Hoover\n",
              "3                    Lisa Simpson\n",
              "4         Edna Krabappel-Flanders\n",
              "                   ...           \n",
              "158309                Miss Hoover\n",
              "158310                Miss Hoover\n",
              "158311                Miss Hoover\n",
              "158312               Ralph Wiggum\n",
              "158313                      JANEY\n",
              "Name: raw_character_text, Length: 158314, dtype: object"
            ]
          },
          "metadata": {},
          "execution_count": 6
        }
      ]
    },
    {
      "cell_type": "code",
      "metadata": {
        "colab": {
          "base_uri": "https://localhost:8080/"
        },
        "id": "6QdfZN13GUEt",
        "outputId": "5e24893c-53b2-474f-b2df-4ae9d44a263e"
      },
      "source": [
        "from sklearn.preprocessing import LabelEncoder\n",
        "\n",
        "csv_data['clean_character_text'] = csv_data['raw_character_text']\n",
        "csv_data['clean_character_text'].fillna('NAN',inplace=True)\n",
        "\n",
        "le = LabelEncoder()\n",
        "le = le.fit(csv_data['clean_character_text'])\n",
        "csv_data['speakerID'] = le.transform(csv_data['clean_character_text'])\n",
        "\n",
        "length, _ = csv_data.shape\n",
        "print(len(le.classes_))\n",
        "print(csv_data.head())\n",
        "print(\"length\", length)"
      ],
      "execution_count": null,
      "outputs": [
        {
          "output_type": "stream",
          "name": "stdout",
          "text": [
            "6759\n",
            "        raw_character_text  ... speakerID\n",
            "0              Miss Hoover  ...      4034\n",
            "1             Lisa Simpson  ...      3567\n",
            "2              Miss Hoover  ...      4034\n",
            "3             Lisa Simpson  ...      3567\n",
            "4  Edna Krabappel-Flanders  ...      1884\n",
            "\n",
            "[5 rows x 4 columns]\n",
            "length 158314\n"
          ]
        }
      ]
    },
    {
      "cell_type": "code",
      "metadata": {
        "colab": {
          "base_uri": "https://localhost:8080/"
        },
        "id": "DltiZLHAGUEt",
        "outputId": "c5bc51f3-da18-4833-af71-ee78c49c3ae9"
      },
      "source": [
        "scenes = []\n",
        "scene_index = -1\n",
        "i = 0 \n",
        "length,_ = csv_data.shape \n",
        "startScene = False\n",
        "while i < length:\n",
        "  currentSpeaker = csv_data['speakerID'][i]\n",
        "  utterance = csv_data['spoken_words'][i] \n",
        "  if not startScene:\n",
        "    startScene = True\n",
        "    scenes.append(list())\n",
        "    scene_index += 1\n",
        "    startScene = True\n",
        "  \n",
        "  if startScene:\n",
        "    if type(utterance) is not str:\n",
        "      #end of scene\n",
        "      startScene = False\n",
        "    else:\n",
        "      scenes[scene_index].append((currentSpeaker,utterance))\n",
        "  i += 1  \n",
        "\n",
        "scenes[:10]"
      ],
      "execution_count": null,
      "outputs": [
        {
          "output_type": "execute_result",
          "data": {
            "text/plain": [
              "[[(4034,\n",
              "   \"No, actually, it was a little of both. Sometimes when a disease is in all the magazines and all the news shows, it's only natural that you think you have it.\"),\n",
              "  (3567, \"Where's Mr. Bergstrom?\"),\n",
              "  (4034,\n",
              "   \"I don't know. Although I'd sure like to talk to him. He didn't touch my lesson plan. What did he teach you?\"),\n",
              "  (3567, 'That life is worth living.'),\n",
              "  (1884,\n",
              "   \"The polls will be open from now until the end of recess. Now, just in case any of you have decided to put any thought into this, we'll have our final statements. Martin?\"),\n",
              "  (3906, \"I don't think there's anything left to say.\"),\n",
              "  (1884, 'Bart?'),\n",
              "  (648, 'Victory party under the slide!')],\n",
              " [(3567, 'Mr. Bergstrom! Mr. Bergstrom!'),\n",
              "  (3467,\n",
              "   'Hey, hey, he Moved out this morning. He must have a new job -- he took his Copernicus costume.'),\n",
              "  (3567, 'Do you know where I could find him?'),\n",
              "  (3467, \"I think he's taking the next train to Capital City.\"),\n",
              "  (3567, 'The train, how like him... traditional, yet environmentally sound.'),\n",
              "  (3467,\n",
              "   \"Yes, and it's been the backbone of our country since Leland Stanford drove that golden spike at Promontory point.\"),\n",
              "  (3567, 'I see he touched you, too.')],\n",
              " [(648, 'Hey, thanks for your vote, man.'),\n",
              "  (4325, \"I didn't vote. Voting's for geeks.\"),\n",
              "  (648, 'Well, you got that right. Thanks for your vote, girls.'),\n",
              "  (6099, 'We forgot.'),\n",
              "  (648,\n",
              "   \"Well, don't sweat it. Just so long as a couple of people did... right, Milhouse?\"),\n",
              "  (4014, 'Uh oh.'),\n",
              "  (648, 'Lewis?'),\n",
              "  (648, 'Somebody must have voted.'),\n",
              "  (4014, \"What about you, Bart? Didn't you vote?\"),\n",
              "  (648, 'Uh oh.')],\n",
              " [(6532, 'Yayyyyyyyyyyyyyy!')],\n",
              " [(648, 'I demand a recount.'),\n",
              "  (1884, 'One for Martin, two for Martin. Would you like another recount?'),\n",
              "  (648, 'No.'),\n",
              "  (1884, 'Well, I just want to make sure. One for Martin. Two for Martin.'),\n",
              "  (3355, 'This way, Mister President!')],\n",
              " [(1364,\n",
              "   'Now boarding on track 5, The afternoon delight coming to Shelbyville, Parkville, andâ€¦..'),\n",
              "  (3567, 'Mr. Bergstrom! Hey, Mr. Bergstrom!'),\n",
              "  (537, 'Hey, Lisa.'),\n",
              "  (3567, 'Hey, Lisa, indeed.'),\n",
              "  (537, 'What? What is it?'),\n",
              "  (3567, 'Oh, I mean, were you just going to leave, just like that?'),\n",
              "  (537,\n",
              "   \"Ah, I'm sorry, Lisa. You know, it's the life of the substitute teacher: he's a fraud. Today he might be wearing gym shorts, tomorrow he's speaking French, or, or, or pretending to know how to run a band saw, or God knows what.\"),\n",
              "  (3567, \"You can't go! You're the best teacher I'll ever have.\"),\n",
              "  (537, \"Ah, that's not true. Other teachers will come along who...\"),\n",
              "  (3567, 'Oh, please.'),\n",
              "  (537,\n",
              "   \"No, I can't lie to you, I am the best. But, you know, they need me over in the projects of Capital City.\"),\n",
              "  (3567, 'But I need you too.'),\n",
              "  (537,\n",
              "   \"That's the problem with being middle class. Anybody who really cares will abandon you for those who need it more.\"),\n",
              "  (3567, \"I, I understand. Mr. Bergstrom, I'm going to miss you.\"),\n",
              "  (537, \"I'll tell you what...\"),\n",
              "  (537,\n",
              "   \"Whenever you feel like you're alone and there's nobody you can rely on, this is all you need to know.\"),\n",
              "  (3567, 'Thank you, Mr. Bergstrom.'),\n",
              "  (1364, 'All aboard!'),\n",
              "  (3567,\n",
              "   \"So, I guess this is it? It you don't mind I'll just run alongside the train as it speeds you from my life?\"),\n",
              "  (537, \"Goodbye, Lisa honey. It'll be okay. Just read the note.\")],\n",
              " [(2879,\n",
              "   'Never thrown a party? What about that big bash we had with all the champagne and musicians and holy men and everything?'),\n",
              "  (2879,\n",
              "   \"Bart didn't get one vote?! Oh, this is the worst thing that ever happened to us. Alright, allright, spilled milk, spilled milk, spilled milk. What are you so mopey about?\"),\n",
              "  (3567, 'Nothing.'),\n",
              "  (3879, 'Lisa, tell your father.'),\n",
              "  (3567, 'Mr. Bergstrom left today.'),\n",
              "  (2879, 'Oh.'),\n",
              "  (3567, \"He's gone. Forever.\"),\n",
              "  (2879, 'And?'),\n",
              "  (3567, \"I didn't think you'd understand.\"),\n",
              "  (2879, \"Hey, just because I don't care doesn't mean I don't understand.\"),\n",
              "  (3567,\n",
              "   \"I'm glad I'm not crying because I would hate for you to think that what I'm about to say is based on emotion. But you, sir, are a baboon!\"),\n",
              "  (2879, 'Me?'),\n",
              "  (3567, 'Yes, you! Baboon, baboon, baboon, baboon!'),\n",
              "  (2879, \"I don't think you realize what you're saying.\"),\n",
              "  (3567, 'Baboon!'),\n",
              "  (648,\n",
              "   \"Whoa, somebody was bound to say it one day. I just can't believe it was her.\"),\n",
              "  (2879,\n",
              "   'Did you hear that, Marge? She called me a baboon! The stupidest, ugliest, smelliest ape of them all!'),\n",
              "  (3879,\n",
              "   \"Homer, you are not allowed to have hurt feelings right now. There's a little girl upstairs who needs you. Her confidence in her father is shaken, and no little girl can be happy unless she has faith in her Daddy.\"),\n",
              "  (2879, 'Go Away.'),\n",
              "  (2879,\n",
              "   \"Lisa, don't hold anything back. You can tell me. Are you crying because you called Daddy a baboon?\"),\n",
              "  (3567, 'No!'),\n",
              "  (2879, 'Nuts.'),\n",
              "  (2879, \"This isn't going well at all.\"),\n",
              "  (3567, 'Look, if you just want me to forgive you --'),\n",
              "  (2879, 'No, no, no. I just wish I knew what to say.'),\n",
              "  (2879,\n",
              "   \"Although, maybe this will help. Now you lost someone special and it hurts. I'm lucky because I never lost anyone special to me. Everyone special to me is under this roof.\")],\n",
              " [(3879, 'That was our wedding.'),\n",
              "  (2879, 'Oh.'),\n",
              "  (3879, \"Children, it's time for you to go to bed.\"),\n",
              "  (2879,\n",
              "   \"It's true. Now, you'll have lots of special people in your life, Lisa. There's probably some place where they all get together, and the food is real good, and guys like me are serving drinks. Oh well, maybe I can't explain all this, but I can fix your doll house for you. At least, I'm good at monkey work. You know... monkey. You know what I mean?\"),\n",
              "  (3567, 'Yeah.'),\n",
              "  (2879, 'I can hold these nails in place with my tail.'),\n",
              "  (3567, \"You're so silly.\"),\n",
              "  (2879, 'Gimme a banana.'),\n",
              "  (3567, \"I don't have any banana.\"),\n",
              "  (2879, \"Come on, you're holding out on me.\"),\n",
              "  (3567, \"I'm sorry I called you a baboon, Dad.\"),\n",
              "  (2879, 'Think nothing of it.'),\n",
              "  (2879, \"Hey, what's the matter, son?\"),\n",
              "  (648, 'Ah, Dad, if just me, Milhouse and Lewis had voted...'),\n",
              "  (2879,\n",
              "   'Hey son, would you have gotten any money for being class president?'),\n",
              "  (648, 'No.'),\n",
              "  (2879, 'Would you have to do extra work?'),\n",
              "  (648, 'Yeah.'),\n",
              "  (2879,\n",
              "   'And is this Martin guy going to get to do anything neat, like throw out the first ball at the world series, huh?'),\n",
              "  (648, 'Well, no.'),\n",
              "  (2879, \"So, let the baby have his bottle, huh? That's my motto.\"),\n",
              "  (648, 'Hey! Thanks, monkey-man.'),\n",
              "  (2879, 'Holy-moly... talk about parenting!'),\n",
              "  (2879, 'Uh oh.'),\n",
              "  (2879, 'Sleep well, Maggie. Ah, three for three.'),\n",
              "  (3879, 'Homie, did you straighten everything out...?'),\n",
              "  (2879,\n",
              "   \"Up... up... up... up... up... up. Don't say anything, Marge. Let's just go to bed. I'm on the biggest roll of my life.\")],\n",
              " [(2879, 'Mmm... hors doovers.'),\n",
              "  (3879, 'Homer! You promised!'),\n",
              "  (2879, \"I promised I wouldn't eat? Never! You lie!\"),\n",
              "  (3879,\n",
              "   \"Homer, please. We've never thrown a party. Now we're gonna pay back all the friends who've invited us to their homes.\"),\n",
              "  (3567, 'But Mom, I want to hear the witty banter of sophisticated adults.'),\n",
              "  (648, \"Yeah, you can't have any fun in bed.\"),\n",
              "  (2879, \"Oh son, when you're older, you'll know better.\"),\n",
              "  (2879, 'Hmmm. Oh, baby! Mmmm. Yeah.'),\n",
              "  (3879, \"Oh! They're here! How does everything look?\"),\n",
              "  (2879, 'How do I look?'),\n",
              "  (3879, 'Do we have enough glasses?'),\n",
              "  (2879, 'Do we have enough gag ice cubs?'),\n",
              "  (3879, 'Homer! Homer! Put a record on!'),\n",
              "  (2879, 'What are all our friends names again?'),\n",
              "  (3879, 'Children! Go!'),\n",
              "  (4316,\n",
              "   'Hey, anybody mind if I serve as bartender? You know, I have a Ph.D in Mixology.'),\n",
              "  (4066, 'College boy.'),\n",
              "  (4316, 'Hey, Homer! Care to try some of my Flanders Planters punch?'),\n",
              "  (2879, 'Why not? I paid for it.'),\n",
              "  (2879, \"Hey, Flanders, next time why don't you put a little alcohol in it?\"),\n",
              "  (4316,\n",
              "   'Au contraire, Simpson! It has three shots of rum, a jigger of bourbon and just little dab-a-roo of creme de cassis for flavor.'),\n",
              "  (2879,\n",
              "   \"Really? Well I do have a warm sense of well-being and I seem to be ssslurring my shpeech... you're right! Give me another.\"),\n",
              "  (3879,\n",
              "   \"Now, Homer, go easy on the al-ky-hol. Remember last year at the Winfield's party when you threw up in the laundry hamper?\"),\n",
              "  (2879, 'No.')],\n",
              " []]"
            ]
          },
          "metadata": {},
          "execution_count": 12
        }
      ]
    },
    {
      "cell_type": "code",
      "metadata": {
        "colab": {
          "base_uri": "https://localhost:8080/"
        },
        "id": "Z2wqLi4pGUEu",
        "outputId": "12412677-d49c-43c6-e58a-9a696b34c5dc"
      },
      "source": [
        "speakers = []\n",
        "questions = []\n",
        "responses = []\n",
        "for scene in scenes:\n",
        "  lines = scene \n",
        "  prev_speaker = None\n",
        "  prev_utterance = None\n",
        "  for speaker,utterance in lines:\n",
        "    # print(speaker,utterance)\n",
        "\n",
        "    # if speaker == persona and prev_speaker != persona and prev_speaker is not None and prev_utterance not in questions:\n",
        "    if prev_speaker != speaker and prev_speaker is not None and prev_utterance not in questions:\n",
        "      speakers.append(speaker)\n",
        "      questions.append(prev_utterance)\n",
        "      responses.append(utterance)\n",
        "    prev_speaker = speaker\n",
        "    prev_utterance = utterance \n",
        "\n",
        "len(speakers),len(questions),len(responses)"
      ],
      "execution_count": null,
      "outputs": [
        {
          "output_type": "execute_result",
          "data": {
            "text/plain": [
              "(87043, 87043, 87043)"
            ]
          },
          "metadata": {},
          "execution_count": 14
        }
      ]
    },
    {
      "cell_type": "code",
      "metadata": {
        "colab": {
          "base_uri": "https://localhost:8080/"
        },
        "id": "lEMmCvMXGUEu",
        "outputId": "1110dd12-5821-41fc-b7a8-df76e5b3c180"
      },
      "source": [
        "import unicodedata\n",
        "def unicodeToAscii(s):\n",
        "    return ''.join(\n",
        "        c for c in unicodedata.normalize('NFD', s)\n",
        "        if unicodedata.category(c) != 'Mn'\n",
        "    )\n",
        "\n",
        "# Lowercase, trim, and remove non-letter characters\n",
        "def normalizeString(s):\n",
        "    s = unicodeToAscii(s.lower().strip())\n",
        "    s = re.sub(r\"([.!?])\", r\" \\1\", s)\n",
        "    s = re.sub(r\"[^a-zA-Z.!?]+\", r\" \", s)\n",
        "    s = re.sub(r\"\\s+\", r\" \", s).strip()\n",
        "    return s\n",
        "\n",
        "cleaned_questions = list(map(normalizeString,questions))\n",
        "cleaned_responses = list(map(normalizeString,responses))\n",
        "\n",
        "pairs = list(zip(speakers,questions,responses))\n",
        "pairs[:5]"
      ],
      "execution_count": null,
      "outputs": [
        {
          "output_type": "execute_result",
          "data": {
            "text/plain": [
              "[(3567,\n",
              "  \"No, actually, it was a little of both. Sometimes when a disease is in all the magazines and all the news shows, it's only natural that you think you have it.\",\n",
              "  \"Where's Mr. Bergstrom?\"),\n",
              " (4034,\n",
              "  \"Where's Mr. Bergstrom?\",\n",
              "  \"I don't know. Although I'd sure like to talk to him. He didn't touch my lesson plan. What did he teach you?\"),\n",
              " (3567,\n",
              "  \"I don't know. Although I'd sure like to talk to him. He didn't touch my lesson plan. What did he teach you?\",\n",
              "  'That life is worth living.'),\n",
              " (1884,\n",
              "  'That life is worth living.',\n",
              "  \"The polls will be open from now until the end of recess. Now, just in case any of you have decided to put any thought into this, we'll have our final statements. Martin?\"),\n",
              " (3906,\n",
              "  \"The polls will be open from now until the end of recess. Now, just in case any of you have decided to put any thought into this, we'll have our final statements. Martin?\",\n",
              "  \"I don't think there's anything left to say.\")]"
            ]
          },
          "metadata": {},
          "execution_count": 15
        }
      ]
    },
    {
      "cell_type": "code",
      "metadata": {
        "id": "zOtAuvYGGUEu"
      },
      "source": [
        "PAIRS_OUTPUT = \"qa_pairs_with_speaker.txt\"\n",
        "DELIM = \"++++@++++\"\n",
        "with open(PAIRS_OUTPUT, 'w') as f:\n",
        "  for pair in pairs:\n",
        "    f.write(str(pair[0])+DELIM+pair[1]+DELIM+pair[2]+\"\\n\")"
      ],
      "execution_count": null,
      "outputs": []
    }
  ]
}